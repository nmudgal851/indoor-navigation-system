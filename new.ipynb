{
  "nbformat": 4,
  "nbformat_minor": 0,
  "metadata": {
    "colab": {
      "provenance": [],
      "collapsed_sections": [],
      "authorship_tag": "ABX9TyNralwpo4Ml5kmvwu4UnI91"
    },
    "kernelspec": {
      "name": "python3",
      "display_name": "Python 3"
    },
    "language_info": {
      "name": "python"
    },
    "widgets": {
      "application/vnd.jupyter.widget-state+json": {
        "e4655a51253f4013a9ffcc8b6c062527": {
          "model_module": "@jupyter-widgets/controls",
          "model_name": "VBoxModel",
          "model_module_version": "1.5.0",
          "state": {
            "_dom_classes": [
              "widget-interact"
            ],
            "_model_module": "@jupyter-widgets/controls",
            "_model_module_version": "1.5.0",
            "_model_name": "VBoxModel",
            "_view_count": null,
            "_view_module": "@jupyter-widgets/controls",
            "_view_module_version": "1.5.0",
            "_view_name": "VBoxView",
            "box_style": "",
            "children": [
              "IPY_MODEL_edce016bcba1442f934e6cb56f5f6942",
              "IPY_MODEL_9f9c039eb35744f49f303893f4502e73"
            ],
            "layout": "IPY_MODEL_dbcba42b17ed4f738c2e88c20ae022e0"
          }
        },
        "edce016bcba1442f934e6cb56f5f6942": {
          "model_module": "@jupyter-widgets/controls",
          "model_name": "SelectModel",
          "model_module_version": "1.5.0",
          "state": {
            "_dom_classes": [],
            "_model_module": "@jupyter-widgets/controls",
            "_model_module_version": "1.5.0",
            "_model_name": "SelectModel",
            "_options_labels": [
              "Option A",
              "Option B"
            ],
            "_view_count": null,
            "_view_module": "@jupyter-widgets/controls",
            "_view_module_version": "1.5.0",
            "_view_name": "SelectView",
            "description": "Select",
            "description_tooltip": null,
            "disabled": false,
            "index": 0,
            "layout": "IPY_MODEL_47da676d78e04017bf5974ab112cb875",
            "rows": 5,
            "style": "IPY_MODEL_474b5b0d9c3a4890904a0f974ef94a4b"
          }
        },
        "9f9c039eb35744f49f303893f4502e73": {
          "model_module": "@jupyter-widgets/output",
          "model_name": "OutputModel",
          "model_module_version": "1.0.0",
          "state": {
            "_dom_classes": [],
            "_model_module": "@jupyter-widgets/output",
            "_model_module_version": "1.0.0",
            "_model_name": "OutputModel",
            "_view_count": null,
            "_view_module": "@jupyter-widgets/output",
            "_view_module_version": "1.0.0",
            "_view_name": "OutputView",
            "layout": "IPY_MODEL_da2242c8f85b46b7babe5689187bd777",
            "msg_id": "",
            "outputs": [
              {
                "output_type": "stream",
                "name": "stdout",
                "text": [
                  "A\n"
                ]
              }
            ]
          }
        },
        "dbcba42b17ed4f738c2e88c20ae022e0": {
          "model_module": "@jupyter-widgets/base",
          "model_name": "LayoutModel",
          "model_module_version": "1.2.0",
          "state": {
            "_model_module": "@jupyter-widgets/base",
            "_model_module_version": "1.2.0",
            "_model_name": "LayoutModel",
            "_view_count": null,
            "_view_module": "@jupyter-widgets/base",
            "_view_module_version": "1.2.0",
            "_view_name": "LayoutView",
            "align_content": null,
            "align_items": null,
            "align_self": null,
            "border": null,
            "bottom": null,
            "display": null,
            "flex": null,
            "flex_flow": null,
            "grid_area": null,
            "grid_auto_columns": null,
            "grid_auto_flow": null,
            "grid_auto_rows": null,
            "grid_column": null,
            "grid_gap": null,
            "grid_row": null,
            "grid_template_areas": null,
            "grid_template_columns": null,
            "grid_template_rows": null,
            "height": null,
            "justify_content": null,
            "justify_items": null,
            "left": null,
            "margin": null,
            "max_height": null,
            "max_width": null,
            "min_height": null,
            "min_width": null,
            "object_fit": null,
            "object_position": null,
            "order": null,
            "overflow": null,
            "overflow_x": null,
            "overflow_y": null,
            "padding": null,
            "right": null,
            "top": null,
            "visibility": null,
            "width": null
          }
        },
        "47da676d78e04017bf5974ab112cb875": {
          "model_module": "@jupyter-widgets/base",
          "model_name": "LayoutModel",
          "model_module_version": "1.2.0",
          "state": {
            "_model_module": "@jupyter-widgets/base",
            "_model_module_version": "1.2.0",
            "_model_name": "LayoutModel",
            "_view_count": null,
            "_view_module": "@jupyter-widgets/base",
            "_view_module_version": "1.2.0",
            "_view_name": "LayoutView",
            "align_content": null,
            "align_items": null,
            "align_self": null,
            "border": null,
            "bottom": null,
            "display": null,
            "flex": null,
            "flex_flow": null,
            "grid_area": null,
            "grid_auto_columns": null,
            "grid_auto_flow": null,
            "grid_auto_rows": null,
            "grid_column": null,
            "grid_gap": null,
            "grid_row": null,
            "grid_template_areas": null,
            "grid_template_columns": null,
            "grid_template_rows": null,
            "height": null,
            "justify_content": null,
            "justify_items": null,
            "left": null,
            "margin": null,
            "max_height": null,
            "max_width": null,
            "min_height": null,
            "min_width": null,
            "object_fit": null,
            "object_position": null,
            "order": null,
            "overflow": null,
            "overflow_x": null,
            "overflow_y": null,
            "padding": null,
            "right": null,
            "top": null,
            "visibility": null,
            "width": null
          }
        },
        "474b5b0d9c3a4890904a0f974ef94a4b": {
          "model_module": "@jupyter-widgets/controls",
          "model_name": "DescriptionStyleModel",
          "model_module_version": "1.5.0",
          "state": {
            "_model_module": "@jupyter-widgets/controls",
            "_model_module_version": "1.5.0",
            "_model_name": "DescriptionStyleModel",
            "_view_count": null,
            "_view_module": "@jupyter-widgets/base",
            "_view_module_version": "1.2.0",
            "_view_name": "StyleView",
            "description_width": ""
          }
        },
        "da2242c8f85b46b7babe5689187bd777": {
          "model_module": "@jupyter-widgets/base",
          "model_name": "LayoutModel",
          "model_module_version": "1.2.0",
          "state": {
            "_model_module": "@jupyter-widgets/base",
            "_model_module_version": "1.2.0",
            "_model_name": "LayoutModel",
            "_view_count": null,
            "_view_module": "@jupyter-widgets/base",
            "_view_module_version": "1.2.0",
            "_view_name": "LayoutView",
            "align_content": null,
            "align_items": null,
            "align_self": null,
            "border": null,
            "bottom": null,
            "display": null,
            "flex": null,
            "flex_flow": null,
            "grid_area": null,
            "grid_auto_columns": null,
            "grid_auto_flow": null,
            "grid_auto_rows": null,
            "grid_column": null,
            "grid_gap": null,
            "grid_row": null,
            "grid_template_areas": null,
            "grid_template_columns": null,
            "grid_template_rows": null,
            "height": null,
            "justify_content": null,
            "justify_items": null,
            "left": null,
            "margin": null,
            "max_height": null,
            "max_width": null,
            "min_height": null,
            "min_width": null,
            "object_fit": null,
            "object_position": null,
            "order": null,
            "overflow": null,
            "overflow_x": null,
            "overflow_y": null,
            "padding": null,
            "right": null,
            "top": null,
            "visibility": null,
            "width": null
          }
        },
        "e6db4f4066284de188f01f3771bedbc5": {
          "model_module": "@jupyter-widgets/controls",
          "model_name": "VBoxModel",
          "model_module_version": "1.5.0",
          "state": {
            "_dom_classes": [
              "widget-interact"
            ],
            "_model_module": "@jupyter-widgets/controls",
            "_model_module_version": "1.5.0",
            "_model_name": "VBoxModel",
            "_view_count": null,
            "_view_module": "@jupyter-widgets/controls",
            "_view_module_version": "1.5.0",
            "_view_name": "VBoxView",
            "box_style": "",
            "children": [
              "IPY_MODEL_adf6e635556a470a92225fa416e610bc",
              "IPY_MODEL_3254c0c5346c4b21ac727c5044918826"
            ],
            "layout": "IPY_MODEL_d8279dbdb5924d9e9fc4a613c1bb9a7e"
          }
        },
        "adf6e635556a470a92225fa416e610bc": {
          "model_module": "@jupyter-widgets/controls",
          "model_name": "SelectModel",
          "model_module_version": "1.5.0",
          "state": {
            "_dom_classes": [],
            "_model_module": "@jupyter-widgets/controls",
            "_model_module_version": "1.5.0",
            "_model_name": "SelectModel",
            "_options_labels": [
              "Aufnahme",
              "Eingang West",
              "Eingang Ost",
              "Eingang Fahrzeuge"
            ],
            "_view_count": null,
            "_view_module": "@jupyter-widgets/controls",
            "_view_module_version": "1.5.0",
            "_view_name": "SelectView",
            "description": "Start",
            "description_tooltip": null,
            "disabled": false,
            "index": 0,
            "layout": "IPY_MODEL_43ecaacda10f4d9ebeb31247e610801b",
            "rows": 5,
            "style": "IPY_MODEL_4f40002cea404f6d9b5bc59104b7eeb3"
          }
        },
        "3254c0c5346c4b21ac727c5044918826": {
          "model_module": "@jupyter-widgets/output",
          "model_name": "OutputModel",
          "model_module_version": "1.0.0",
          "state": {
            "_dom_classes": [],
            "_model_module": "@jupyter-widgets/output",
            "_model_module_version": "1.0.0",
            "_model_name": "OutputModel",
            "_view_count": null,
            "_view_module": "@jupyter-widgets/output",
            "_view_module_version": "1.0.0",
            "_view_name": "OutputView",
            "layout": "IPY_MODEL_1cb904af078749c887cc9299dc887b23",
            "msg_id": "",
            "outputs": [
              {
                "output_type": "stream",
                "name": "stdout",
                "text": [
                  "Selected Start: a; Selected Target: Haus1\n"
                ]
              }
            ]
          }
        },
        "d8279dbdb5924d9e9fc4a613c1bb9a7e": {
          "model_module": "@jupyter-widgets/base",
          "model_name": "LayoutModel",
          "model_module_version": "1.2.0",
          "state": {
            "_model_module": "@jupyter-widgets/base",
            "_model_module_version": "1.2.0",
            "_model_name": "LayoutModel",
            "_view_count": null,
            "_view_module": "@jupyter-widgets/base",
            "_view_module_version": "1.2.0",
            "_view_name": "LayoutView",
            "align_content": null,
            "align_items": null,
            "align_self": null,
            "border": null,
            "bottom": null,
            "display": null,
            "flex": null,
            "flex_flow": null,
            "grid_area": null,
            "grid_auto_columns": null,
            "grid_auto_flow": null,
            "grid_auto_rows": null,
            "grid_column": null,
            "grid_gap": null,
            "grid_row": null,
            "grid_template_areas": null,
            "grid_template_columns": null,
            "grid_template_rows": null,
            "height": null,
            "justify_content": null,
            "justify_items": null,
            "left": null,
            "margin": null,
            "max_height": null,
            "max_width": null,
            "min_height": null,
            "min_width": null,
            "object_fit": null,
            "object_position": null,
            "order": null,
            "overflow": null,
            "overflow_x": null,
            "overflow_y": null,
            "padding": null,
            "right": null,
            "top": null,
            "visibility": null,
            "width": null
          }
        },
        "43ecaacda10f4d9ebeb31247e610801b": {
          "model_module": "@jupyter-widgets/base",
          "model_name": "LayoutModel",
          "model_module_version": "1.2.0",
          "state": {
            "_model_module": "@jupyter-widgets/base",
            "_model_module_version": "1.2.0",
            "_model_name": "LayoutModel",
            "_view_count": null,
            "_view_module": "@jupyter-widgets/base",
            "_view_module_version": "1.2.0",
            "_view_name": "LayoutView",
            "align_content": null,
            "align_items": null,
            "align_self": null,
            "border": null,
            "bottom": null,
            "display": null,
            "flex": null,
            "flex_flow": null,
            "grid_area": null,
            "grid_auto_columns": null,
            "grid_auto_flow": null,
            "grid_auto_rows": null,
            "grid_column": null,
            "grid_gap": null,
            "grid_row": null,
            "grid_template_areas": null,
            "grid_template_columns": null,
            "grid_template_rows": null,
            "height": null,
            "justify_content": null,
            "justify_items": null,
            "left": null,
            "margin": null,
            "max_height": null,
            "max_width": null,
            "min_height": null,
            "min_width": null,
            "object_fit": null,
            "object_position": null,
            "order": null,
            "overflow": null,
            "overflow_x": null,
            "overflow_y": null,
            "padding": null,
            "right": null,
            "top": null,
            "visibility": null,
            "width": null
          }
        },
        "4f40002cea404f6d9b5bc59104b7eeb3": {
          "model_module": "@jupyter-widgets/controls",
          "model_name": "DescriptionStyleModel",
          "model_module_version": "1.5.0",
          "state": {
            "_model_module": "@jupyter-widgets/controls",
            "_model_module_version": "1.5.0",
            "_model_name": "DescriptionStyleModel",
            "_view_count": null,
            "_view_module": "@jupyter-widgets/base",
            "_view_module_version": "1.2.0",
            "_view_name": "StyleView",
            "description_width": ""
          }
        },
        "1cb904af078749c887cc9299dc887b23": {
          "model_module": "@jupyter-widgets/base",
          "model_name": "LayoutModel",
          "model_module_version": "1.2.0",
          "state": {
            "_model_module": "@jupyter-widgets/base",
            "_model_module_version": "1.2.0",
            "_model_name": "LayoutModel",
            "_view_count": null,
            "_view_module": "@jupyter-widgets/base",
            "_view_module_version": "1.2.0",
            "_view_name": "LayoutView",
            "align_content": null,
            "align_items": null,
            "align_self": null,
            "border": null,
            "bottom": null,
            "display": null,
            "flex": null,
            "flex_flow": null,
            "grid_area": null,
            "grid_auto_columns": null,
            "grid_auto_flow": null,
            "grid_auto_rows": null,
            "grid_column": null,
            "grid_gap": null,
            "grid_row": null,
            "grid_template_areas": null,
            "grid_template_columns": null,
            "grid_template_rows": null,
            "height": null,
            "justify_content": null,
            "justify_items": null,
            "left": null,
            "margin": null,
            "max_height": null,
            "max_width": null,
            "min_height": null,
            "min_width": null,
            "object_fit": null,
            "object_position": null,
            "order": null,
            "overflow": null,
            "overflow_x": null,
            "overflow_y": null,
            "padding": null,
            "right": null,
            "top": null,
            "visibility": null,
            "width": null
          }
        },
        "a7070a8907d44511a62bb2b3e3a5b0e4": {
          "model_module": "@jupyter-widgets/controls",
          "model_name": "VBoxModel",
          "model_module_version": "1.5.0",
          "state": {
            "_dom_classes": [
              "widget-interact"
            ],
            "_model_module": "@jupyter-widgets/controls",
            "_model_module_version": "1.5.0",
            "_model_name": "VBoxModel",
            "_view_count": null,
            "_view_module": "@jupyter-widgets/controls",
            "_view_module_version": "1.5.0",
            "_view_name": "VBoxView",
            "box_style": "",
            "children": [
              "IPY_MODEL_56b7a30edd69471c96c5f4708f44fe7e",
              "IPY_MODEL_56df3f1a85044c459deffb88f89698d5"
            ],
            "layout": "IPY_MODEL_6c2390e75e2040fba30b15b24de3e1f2"
          }
        },
        "56b7a30edd69471c96c5f4708f44fe7e": {
          "model_module": "@jupyter-widgets/controls",
          "model_name": "SelectModel",
          "model_module_version": "1.5.0",
          "state": {
            "_dom_classes": [],
            "_model_module": "@jupyter-widgets/controls",
            "_model_module_version": "1.5.0",
            "_model_name": "SelectModel",
            "_options_labels": [
              "Haus1",
              "Haus10",
              "Haus11",
              "Haus12",
              "Haus13",
              "Haus14",
              "Haus15",
              "Haus16",
              "Haus17",
              "Haus19",
              "Haus2",
              "Haus20",
              "Haus22",
              "Haus24",
              "Haus25",
              "Haus26",
              "Haus27",
              "Haus28",
              "Haus29",
              "Haus3",
              "Haus30",
              "Haus31",
              "Haus32",
              "Haus33",
              "Haus34",
              "Haus35",
              "Haus36",
              "Haus37",
              "Haus39",
              "Haus4",
              "Haus40",
              "Haus41",
              "Haus42",
              "Haus43",
              "Haus5",
              "Haus6",
              "Haus7",
              "Haus8",
              "Haus9"
            ],
            "_view_count": null,
            "_view_module": "@jupyter-widgets/controls",
            "_view_module_version": "1.5.0",
            "_view_name": "SelectView",
            "description": "Target",
            "description_tooltip": null,
            "disabled": false,
            "index": 2,
            "layout": "IPY_MODEL_3a2f6141cb3a44ec8411966ea967c594",
            "rows": 5,
            "style": "IPY_MODEL_c57ae5ffaa3d45eb9b5f939a11204e95"
          }
        },
        "56df3f1a85044c459deffb88f89698d5": {
          "model_module": "@jupyter-widgets/output",
          "model_name": "OutputModel",
          "model_module_version": "1.0.0",
          "state": {
            "_dom_classes": [],
            "_model_module": "@jupyter-widgets/output",
            "_model_module_version": "1.0.0",
            "_model_name": "OutputModel",
            "_view_count": null,
            "_view_module": "@jupyter-widgets/output",
            "_view_module_version": "1.0.0",
            "_view_name": "OutputView",
            "layout": "IPY_MODEL_ec3601a6f8c64f07b9595f0e7d7fd19c",
            "msg_id": "",
            "outputs": [
              {
                "output_type": "display_data",
                "data": {
                  "text/plain": "<folium.folium.Map at 0x7f5225e59b50>",
                  "text/html": "<div style=\"width:100%;\"><div style=\"position:relative;width:100%;height:0;padding-bottom:60%;\"><span style=\"color:#565656\">Make this Notebook Trusted to load map: File -> Trust Notebook</span><iframe srcdoc=\"&lt;!DOCTYPE html&gt;\n&lt;head&gt;    \n    &lt;meta http-equiv=&quot;content-type&quot; content=&quot;text/html; charset=UTF-8&quot; /&gt;\n    \n        &lt;script&gt;\n            L_NO_TOUCH = false;\n            L_DISABLE_3D = false;\n        &lt;/script&gt;\n    \n    &lt;style&gt;html, body {width: 100%;height: 100%;margin: 0;padding: 0;}&lt;/style&gt;\n    &lt;style&gt;#map {position:absolute;top:0;bottom:0;right:0;left:0;}&lt;/style&gt;\n    &lt;script src=&quot;https://cdn.jsdelivr.net/npm/leaflet@1.6.0/dist/leaflet.js&quot;&gt;&lt;/script&gt;\n    &lt;script src=&quot;https://code.jquery.com/jquery-1.12.4.min.js&quot;&gt;&lt;/script&gt;\n    &lt;script src=&quot;https://maxcdn.bootstrapcdn.com/bootstrap/3.2.0/js/bootstrap.min.js&quot;&gt;&lt;/script&gt;\n    &lt;script src=&quot;https://cdnjs.cloudflare.com/ajax/libs/Leaflet.awesome-markers/2.0.2/leaflet.awesome-markers.js&quot;&gt;&lt;/script&gt;\n    &lt;link rel=&quot;stylesheet&quot; href=&quot;https://cdn.jsdelivr.net/npm/leaflet@1.6.0/dist/leaflet.css&quot;/&gt;\n    &lt;link rel=&quot;stylesheet&quot; href=&quot;https://maxcdn.bootstrapcdn.com/bootstrap/3.2.0/css/bootstrap.min.css&quot;/&gt;\n    &lt;link rel=&quot;stylesheet&quot; href=&quot;https://maxcdn.bootstrapcdn.com/bootstrap/3.2.0/css/bootstrap-theme.min.css&quot;/&gt;\n    &lt;link rel=&quot;stylesheet&quot; href=&quot;https://maxcdn.bootstrapcdn.com/font-awesome/4.6.3/css/font-awesome.min.css&quot;/&gt;\n    &lt;link rel=&quot;stylesheet&quot; href=&quot;https://cdnjs.cloudflare.com/ajax/libs/Leaflet.awesome-markers/2.0.2/leaflet.awesome-markers.css&quot;/&gt;\n    &lt;link rel=&quot;stylesheet&quot; href=&quot;https://cdn.jsdelivr.net/gh/python-visualization/folium/folium/templates/leaflet.awesome.rotate.min.css&quot;/&gt;\n    \n            &lt;meta name=&quot;viewport&quot; content=&quot;width=device-width,\n                initial-scale=1.0, maximum-scale=1.0, user-scalable=no&quot; /&gt;\n            &lt;style&gt;\n                #map_d071abf20f63191e577fd893a28acd38 {\n                    position: relative;\n                    width: 75.0%;\n                    height: 100.0%;\n                    left: 0.0%;\n                    top: 0.0%;\n                }\n            &lt;/style&gt;\n        \n    &lt;script src=&quot;https://cdn.jsdelivr.net/npm/leaflet-ant-path@1.1.2/dist/leaflet-ant-path.min.js&quot;&gt;&lt;/script&gt;\n&lt;/head&gt;\n&lt;body&gt;    \n    \n            &lt;div class=&quot;folium-map&quot; id=&quot;map_d071abf20f63191e577fd893a28acd38&quot; &gt;&lt;/div&gt;\n        \n&lt;/body&gt;\n&lt;script&gt;    \n    \n            var map_d071abf20f63191e577fd893a28acd38 = L.map(\n                &quot;map_d071abf20f63191e577fd893a28acd38&quot;,\n                {\n                    center: [49.49226339787344, 8.487303256988524],\n                    crs: L.CRS.EPSG3857,\n                    zoom: 17,\n                    zoomControl: true,\n                    preferCanvas: false,\n                }\n            );\n\n            \n\n        \n    \n            var tile_layer_0085b7ef6817b28aab281e9240d112aa = L.tileLayer(\n                &quot;https://{s}.tile.openstreetmap.org/{z}/{x}/{y}.png&quot;,\n                {&quot;attribution&quot;: &quot;Data by \\u0026copy; \\u003ca href=\\&quot;http://openstreetmap.org\\&quot;\\u003eOpenStreetMap\\u003c/a\\u003e, under \\u003ca href=\\&quot;http://www.openstreetmap.org/copyright\\&quot;\\u003eODbL\\u003c/a\\u003e.&quot;, &quot;detectRetina&quot;: false, &quot;maxNativeZoom&quot;: 18, &quot;maxZoom&quot;: 18, &quot;minZoom&quot;: 0, &quot;noWrap&quot;: false, &quot;opacity&quot;: 1, &quot;subdomains&quot;: &quot;abc&quot;, &quot;tms&quot;: false}\n            ).addTo(map_d071abf20f63191e577fd893a28acd38);\n        \n    \n            ant_path_068e8822a6830ff4e7ca13b11e82dfa7 = L.polyline.antPath(\n              [[49.492107032409784, 8.484148979187037], [49.492304340279986, 8.484285771846798], [49.49233265149852, 8.484456762671497], [49.490881789354894, 8.489427566528345], [49.490930573169734, 8.489459753036524], [49.490859139710025, 8.489725291729], [49.4912755430445, 8.490023016929653], [49.4912058523567, 8.490269780158997], [49.491066470683386, 8.490245640277863]],\n              {&quot;bubblingMouseEvents&quot;: true, &quot;color&quot;: &quot;#0000FF&quot;, &quot;dashArray&quot;: [10, 20], &quot;dashOffset&quot;: null, &quot;delay&quot;: 400, &quot;fill&quot;: false, &quot;fillColor&quot;: &quot;#3388ff&quot;, &quot;fillOpacity&quot;: 0.2, &quot;fillRule&quot;: &quot;evenodd&quot;, &quot;hardwareAcceleration&quot;: false, &quot;lineCap&quot;: &quot;round&quot;, &quot;lineJoin&quot;: &quot;round&quot;, &quot;noClip&quot;: false, &quot;opacity&quot;: 0.5, &quot;paused&quot;: false, &quot;pulseColor&quot;: &quot;#FFFFFF&quot;, &quot;reverse&quot;: false, &quot;smoothFactor&quot;: 1.0, &quot;stroke&quot;: true, &quot;weight&quot;: 5}\n        ).addTo(map_d071abf20f63191e577fd893a28acd38);\n        \n    \n\n        function geo_json_3fa2346fe43642ba59d5a56c5eeaf94d_onEachFeature(feature, layer) {\n            layer.on({\n            });\n        };\n        var geo_json_3fa2346fe43642ba59d5a56c5eeaf94d = L.geoJson(null, {\n                onEachFeature: geo_json_3fa2346fe43642ba59d5a56c5eeaf94d_onEachFeature,\n            \n        });\n\n        function geo_json_3fa2346fe43642ba59d5a56c5eeaf94d_add (data) {\n            geo_json_3fa2346fe43642ba59d5a56c5eeaf94d\n                .addData(data)\n                .addTo(map_d071abf20f63191e577fd893a28acd38);\n        }\n            geo_json_3fa2346fe43642ba59d5a56c5eeaf94d_add({&quot;features&quot;: [{&quot;geometry&quot;: {&quot;coordinates&quot;: [[[8.49004179239273, 49.49125049796503], [8.490215465426445, 49.49119583431216], [8.490055203437803, 49.490968467706686], [8.489876836538315, 49.491023784966515], [8.489847332239151, 49.49098066364335], [8.490232899785042, 49.490862188701314], [8.490287885069847, 49.490939284560156], [8.490491732954979, 49.49087874036485], [8.490511178970337, 49.49090879468698], [8.490554764866829, 49.49089485645295], [8.49061980843544, 49.490984148196134], [8.490574210882187, 49.49099852197371], [8.490594998002052, 49.491028576222334], [8.490399196743965, 49.491086942391505], [8.4904595464468, 49.491171878110414], [8.490330129861832, 49.49120890132637], [8.490360975265503, 49.49126073378167], [8.490232229232788, 49.491299063629306], [8.490194007754326, 49.49125071574837], [8.490068949759007, 49.49128773890471], [8.49004179239273, 49.49125049796503]]], &quot;type&quot;: &quot;Polygon&quot;}, &quot;properties&quot;: {}, &quot;type&quot;: &quot;Feature&quot;}], &quot;type&quot;: &quot;FeatureCollection&quot;});\n\n        \n&lt;/script&gt;\" style=\"position:absolute;width:100%;height:100%;left:0;top:0;border:none !important;\" allowfullscreen webkitallowfullscreen mozallowfullscreen></iframe></div></div>"
                },
                "metadata": {}
              }
            ]
          }
        },
        "6c2390e75e2040fba30b15b24de3e1f2": {
          "model_module": "@jupyter-widgets/base",
          "model_name": "LayoutModel",
          "model_module_version": "1.2.0",
          "state": {
            "_model_module": "@jupyter-widgets/base",
            "_model_module_version": "1.2.0",
            "_model_name": "LayoutModel",
            "_view_count": null,
            "_view_module": "@jupyter-widgets/base",
            "_view_module_version": "1.2.0",
            "_view_name": "LayoutView",
            "align_content": null,
            "align_items": null,
            "align_self": null,
            "border": null,
            "bottom": null,
            "display": null,
            "flex": null,
            "flex_flow": null,
            "grid_area": null,
            "grid_auto_columns": null,
            "grid_auto_flow": null,
            "grid_auto_rows": null,
            "grid_column": null,
            "grid_gap": null,
            "grid_row": null,
            "grid_template_areas": null,
            "grid_template_columns": null,
            "grid_template_rows": null,
            "height": null,
            "justify_content": null,
            "justify_items": null,
            "left": null,
            "margin": null,
            "max_height": null,
            "max_width": null,
            "min_height": null,
            "min_width": null,
            "object_fit": null,
            "object_position": null,
            "order": null,
            "overflow": null,
            "overflow_x": null,
            "overflow_y": null,
            "padding": null,
            "right": null,
            "top": null,
            "visibility": null,
            "width": null
          }
        },
        "3a2f6141cb3a44ec8411966ea967c594": {
          "model_module": "@jupyter-widgets/base",
          "model_name": "LayoutModel",
          "model_module_version": "1.2.0",
          "state": {
            "_model_module": "@jupyter-widgets/base",
            "_model_module_version": "1.2.0",
            "_model_name": "LayoutModel",
            "_view_count": null,
            "_view_module": "@jupyter-widgets/base",
            "_view_module_version": "1.2.0",
            "_view_name": "LayoutView",
            "align_content": null,
            "align_items": null,
            "align_self": null,
            "border": null,
            "bottom": null,
            "display": null,
            "flex": null,
            "flex_flow": null,
            "grid_area": null,
            "grid_auto_columns": null,
            "grid_auto_flow": null,
            "grid_auto_rows": null,
            "grid_column": null,
            "grid_gap": null,
            "grid_row": null,
            "grid_template_areas": null,
            "grid_template_columns": null,
            "grid_template_rows": null,
            "height": null,
            "justify_content": null,
            "justify_items": null,
            "left": null,
            "margin": null,
            "max_height": null,
            "max_width": null,
            "min_height": null,
            "min_width": null,
            "object_fit": null,
            "object_position": null,
            "order": null,
            "overflow": null,
            "overflow_x": null,
            "overflow_y": null,
            "padding": null,
            "right": null,
            "top": null,
            "visibility": null,
            "width": null
          }
        },
        "c57ae5ffaa3d45eb9b5f939a11204e95": {
          "model_module": "@jupyter-widgets/controls",
          "model_name": "DescriptionStyleModel",
          "model_module_version": "1.5.0",
          "state": {
            "_model_module": "@jupyter-widgets/controls",
            "_model_module_version": "1.5.0",
            "_model_name": "DescriptionStyleModel",
            "_view_count": null,
            "_view_module": "@jupyter-widgets/base",
            "_view_module_version": "1.2.0",
            "_view_name": "StyleView",
            "description_width": ""
          }
        },
        "ec3601a6f8c64f07b9595f0e7d7fd19c": {
          "model_module": "@jupyter-widgets/base",
          "model_name": "LayoutModel",
          "model_module_version": "1.2.0",
          "state": {
            "_model_module": "@jupyter-widgets/base",
            "_model_module_version": "1.2.0",
            "_model_name": "LayoutModel",
            "_view_count": null,
            "_view_module": "@jupyter-widgets/base",
            "_view_module_version": "1.2.0",
            "_view_name": "LayoutView",
            "align_content": null,
            "align_items": null,
            "align_self": null,
            "border": null,
            "bottom": null,
            "display": null,
            "flex": null,
            "flex_flow": null,
            "grid_area": null,
            "grid_auto_columns": null,
            "grid_auto_flow": null,
            "grid_auto_rows": null,
            "grid_column": null,
            "grid_gap": null,
            "grid_row": null,
            "grid_template_areas": null,
            "grid_template_columns": null,
            "grid_template_rows": null,
            "height": null,
            "justify_content": null,
            "justify_items": null,
            "left": null,
            "margin": null,
            "max_height": null,
            "max_width": null,
            "min_height": null,
            "min_width": null,
            "object_fit": null,
            "object_position": null,
            "order": null,
            "overflow": null,
            "overflow_x": null,
            "overflow_y": null,
            "padding": null,
            "right": null,
            "top": null,
            "visibility": null,
            "width": null
          }
        }
      }
    }
  },
  "cells": [
    {
      "cell_type": "code",
      "execution_count": null,
      "metadata": {
        "id": "hx-e3q8uL4fG"
      },
      "outputs": [],
      "source": [
        "import folium\n",
        "from folium import plugins\n",
        "import pandas as pd\n",
        "\n",
        "import ipywidgets\n",
        "import os\n",
        "import json\n",
        "\n",
        "from IPython.display import YouTubeVideo\n",
        "import datetime"
      ]
    },
    {
      "cell_type": "code",
      "source": [
        "!git clone https://github.com/Fuenfgeld/HospitalNavigator.git"
      ],
      "metadata": {
        "colab": {
          "base_uri": "https://localhost:8080/"
        },
        "id": "dtUdiFU7MENZ",
        "outputId": "d411168c-332a-443f-b2d5-60fca7d1514d"
      },
      "execution_count": null,
      "outputs": [
        {
          "output_type": "stream",
          "name": "stdout",
          "text": [
            "Cloning into 'HospitalNavigator'...\n",
            "remote: Enumerating objects: 115, done.\u001b[K\n",
            "remote: Counting objects: 100% (115/115), done.\u001b[K\n",
            "remote: Compressing objects: 100% (99/99), done.\u001b[K\n",
            "remote: Total 115 (delta 25), reused 94 (delta 15), pack-reused 0\u001b[K\n",
            "Receiving objects: 100% (115/115), 120.66 KiB | 6.03 MiB/s, done.\n",
            "Resolving deltas: 100% (25/25), done.\n"
          ]
        }
      ]
    },
    {
      "cell_type": "code",
      "source": [
        "UMMlocation = (49.49216583285166, 8.484229445457458)\n",
        "map_UMM = folium.Map(location = UMMlocation, width = \"75%\", zoom_start = 17) # max zoom: 18\n",
        "map_UMM"
      ],
      "metadata": {
        "colab": {
          "base_uri": "https://localhost:8080/",
          "height": 866
        },
        "id": "TwjR9HM5MK86",
        "outputId": "083cec59-b93a-4d27-9919-49ce641728d0"
      },
      "execution_count": null,
      "outputs": [
        {
          "output_type": "execute_result",
          "data": {
            "text/plain": [
              "<folium.folium.Map at 0x7f5225edd8d0>"
            ],
            "text/html": [
              "<div style=\"width:100%;\"><div style=\"position:relative;width:100%;height:0;padding-bottom:60%;\"><span style=\"color:#565656\">Make this Notebook Trusted to load map: File -> Trust Notebook</span><iframe srcdoc=\"&lt;!DOCTYPE html&gt;\n",
              "&lt;head&gt;    \n",
              "    &lt;meta http-equiv=&quot;content-type&quot; content=&quot;text/html; charset=UTF-8&quot; /&gt;\n",
              "    \n",
              "        &lt;script&gt;\n",
              "            L_NO_TOUCH = false;\n",
              "            L_DISABLE_3D = false;\n",
              "        &lt;/script&gt;\n",
              "    \n",
              "    &lt;style&gt;html, body {width: 100%;height: 100%;margin: 0;padding: 0;}&lt;/style&gt;\n",
              "    &lt;style&gt;#map {position:absolute;top:0;bottom:0;right:0;left:0;}&lt;/style&gt;\n",
              "    &lt;script src=&quot;https://cdn.jsdelivr.net/npm/leaflet@1.6.0/dist/leaflet.js&quot;&gt;&lt;/script&gt;\n",
              "    &lt;script src=&quot;https://code.jquery.com/jquery-1.12.4.min.js&quot;&gt;&lt;/script&gt;\n",
              "    &lt;script src=&quot;https://maxcdn.bootstrapcdn.com/bootstrap/3.2.0/js/bootstrap.min.js&quot;&gt;&lt;/script&gt;\n",
              "    &lt;script src=&quot;https://cdnjs.cloudflare.com/ajax/libs/Leaflet.awesome-markers/2.0.2/leaflet.awesome-markers.js&quot;&gt;&lt;/script&gt;\n",
              "    &lt;link rel=&quot;stylesheet&quot; href=&quot;https://cdn.jsdelivr.net/npm/leaflet@1.6.0/dist/leaflet.css&quot;/&gt;\n",
              "    &lt;link rel=&quot;stylesheet&quot; href=&quot;https://maxcdn.bootstrapcdn.com/bootstrap/3.2.0/css/bootstrap.min.css&quot;/&gt;\n",
              "    &lt;link rel=&quot;stylesheet&quot; href=&quot;https://maxcdn.bootstrapcdn.com/bootstrap/3.2.0/css/bootstrap-theme.min.css&quot;/&gt;\n",
              "    &lt;link rel=&quot;stylesheet&quot; href=&quot;https://maxcdn.bootstrapcdn.com/font-awesome/4.6.3/css/font-awesome.min.css&quot;/&gt;\n",
              "    &lt;link rel=&quot;stylesheet&quot; href=&quot;https://cdnjs.cloudflare.com/ajax/libs/Leaflet.awesome-markers/2.0.2/leaflet.awesome-markers.css&quot;/&gt;\n",
              "    &lt;link rel=&quot;stylesheet&quot; href=&quot;https://cdn.jsdelivr.net/gh/python-visualization/folium/folium/templates/leaflet.awesome.rotate.min.css&quot;/&gt;\n",
              "    \n",
              "            &lt;meta name=&quot;viewport&quot; content=&quot;width=device-width,\n",
              "                initial-scale=1.0, maximum-scale=1.0, user-scalable=no&quot; /&gt;\n",
              "            &lt;style&gt;\n",
              "                #map_423b1ec9a80254ed7a57a22668f0edf7 {\n",
              "                    position: relative;\n",
              "                    width: 75.0%;\n",
              "                    height: 100.0%;\n",
              "                    left: 0.0%;\n",
              "                    top: 0.0%;\n",
              "                }\n",
              "            &lt;/style&gt;\n",
              "        \n",
              "&lt;/head&gt;\n",
              "&lt;body&gt;    \n",
              "    \n",
              "            &lt;div class=&quot;folium-map&quot; id=&quot;map_423b1ec9a80254ed7a57a22668f0edf7&quot; &gt;&lt;/div&gt;\n",
              "        \n",
              "&lt;/body&gt;\n",
              "&lt;script&gt;    \n",
              "    \n",
              "            var map_423b1ec9a80254ed7a57a22668f0edf7 = L.map(\n",
              "                &quot;map_423b1ec9a80254ed7a57a22668f0edf7&quot;,\n",
              "                {\n",
              "                    center: [49.49216583285166, 8.484229445457458],\n",
              "                    crs: L.CRS.EPSG3857,\n",
              "                    zoom: 17,\n",
              "                    zoomControl: true,\n",
              "                    preferCanvas: false,\n",
              "                }\n",
              "            );\n",
              "\n",
              "            \n",
              "\n",
              "        \n",
              "    \n",
              "            var tile_layer_c49001d8293e498cdc2d4d000d5c451c = L.tileLayer(\n",
              "                &quot;https://{s}.tile.openstreetmap.org/{z}/{x}/{y}.png&quot;,\n",
              "                {&quot;attribution&quot;: &quot;Data by \\u0026copy; \\u003ca href=\\&quot;http://openstreetmap.org\\&quot;\\u003eOpenStreetMap\\u003c/a\\u003e, under \\u003ca href=\\&quot;http://www.openstreetmap.org/copyright\\&quot;\\u003eODbL\\u003c/a\\u003e.&quot;, &quot;detectRetina&quot;: false, &quot;maxNativeZoom&quot;: 18, &quot;maxZoom&quot;: 18, &quot;minZoom&quot;: 0, &quot;noWrap&quot;: false, &quot;opacity&quot;: 1, &quot;subdomains&quot;: &quot;abc&quot;, &quot;tms&quot;: false}\n",
              "            ).addTo(map_423b1ec9a80254ed7a57a22668f0edf7);\n",
              "        \n",
              "&lt;/script&gt;\" style=\"position:absolute;width:100%;height:100%;left:0;top:0;border:none !important;\" allowfullscreen webkitallowfullscreen mozallowfullscreen></iframe></div></div>"
            ]
          },
          "metadata": {},
          "execution_count": 3
        }
      ]
    },
    {
      "cell_type": "code",
      "source": [
        "hauseOutline = 'HospitalNavigator/GeoResources/Haus22.geojson'\n",
        "display(folium.GeoJson(hauseOutline, name=\"Haus22\").add_to(map_UMM))\n",
        "display(map_UMM)"
      ],
      "metadata": {
        "colab": {
          "base_uri": "https://localhost:8080/",
          "height": 883
        },
        "id": "xNl8rWp-MZMU",
        "outputId": "61ebfc76-1429-43b5-a642-b9c223313889"
      },
      "execution_count": null,
      "outputs": [
        {
          "output_type": "display_data",
          "data": {
            "text/plain": [
              "<folium.features.GeoJson at 0x7f5225eee9d0>"
            ]
          },
          "metadata": {}
        },
        {
          "output_type": "display_data",
          "data": {
            "text/plain": [
              "<folium.folium.Map at 0x7f5225edd8d0>"
            ],
            "text/html": [
              "<div style=\"width:100%;\"><div style=\"position:relative;width:100%;height:0;padding-bottom:60%;\"><span style=\"color:#565656\">Make this Notebook Trusted to load map: File -> Trust Notebook</span><iframe srcdoc=\"&lt;!DOCTYPE html&gt;\n",
              "&lt;head&gt;    \n",
              "    &lt;meta http-equiv=&quot;content-type&quot; content=&quot;text/html; charset=UTF-8&quot; /&gt;\n",
              "    \n",
              "        &lt;script&gt;\n",
              "            L_NO_TOUCH = false;\n",
              "            L_DISABLE_3D = false;\n",
              "        &lt;/script&gt;\n",
              "    \n",
              "    &lt;style&gt;html, body {width: 100%;height: 100%;margin: 0;padding: 0;}&lt;/style&gt;\n",
              "    &lt;style&gt;#map {position:absolute;top:0;bottom:0;right:0;left:0;}&lt;/style&gt;\n",
              "    &lt;script src=&quot;https://cdn.jsdelivr.net/npm/leaflet@1.6.0/dist/leaflet.js&quot;&gt;&lt;/script&gt;\n",
              "    &lt;script src=&quot;https://code.jquery.com/jquery-1.12.4.min.js&quot;&gt;&lt;/script&gt;\n",
              "    &lt;script src=&quot;https://maxcdn.bootstrapcdn.com/bootstrap/3.2.0/js/bootstrap.min.js&quot;&gt;&lt;/script&gt;\n",
              "    &lt;script src=&quot;https://cdnjs.cloudflare.com/ajax/libs/Leaflet.awesome-markers/2.0.2/leaflet.awesome-markers.js&quot;&gt;&lt;/script&gt;\n",
              "    &lt;link rel=&quot;stylesheet&quot; href=&quot;https://cdn.jsdelivr.net/npm/leaflet@1.6.0/dist/leaflet.css&quot;/&gt;\n",
              "    &lt;link rel=&quot;stylesheet&quot; href=&quot;https://maxcdn.bootstrapcdn.com/bootstrap/3.2.0/css/bootstrap.min.css&quot;/&gt;\n",
              "    &lt;link rel=&quot;stylesheet&quot; href=&quot;https://maxcdn.bootstrapcdn.com/bootstrap/3.2.0/css/bootstrap-theme.min.css&quot;/&gt;\n",
              "    &lt;link rel=&quot;stylesheet&quot; href=&quot;https://maxcdn.bootstrapcdn.com/font-awesome/4.6.3/css/font-awesome.min.css&quot;/&gt;\n",
              "    &lt;link rel=&quot;stylesheet&quot; href=&quot;https://cdnjs.cloudflare.com/ajax/libs/Leaflet.awesome-markers/2.0.2/leaflet.awesome-markers.css&quot;/&gt;\n",
              "    &lt;link rel=&quot;stylesheet&quot; href=&quot;https://cdn.jsdelivr.net/gh/python-visualization/folium/folium/templates/leaflet.awesome.rotate.min.css&quot;/&gt;\n",
              "    \n",
              "            &lt;meta name=&quot;viewport&quot; content=&quot;width=device-width,\n",
              "                initial-scale=1.0, maximum-scale=1.0, user-scalable=no&quot; /&gt;\n",
              "            &lt;style&gt;\n",
              "                #map_423b1ec9a80254ed7a57a22668f0edf7 {\n",
              "                    position: relative;\n",
              "                    width: 75.0%;\n",
              "                    height: 100.0%;\n",
              "                    left: 0.0%;\n",
              "                    top: 0.0%;\n",
              "                }\n",
              "            &lt;/style&gt;\n",
              "        \n",
              "&lt;/head&gt;\n",
              "&lt;body&gt;    \n",
              "    \n",
              "            &lt;div class=&quot;folium-map&quot; id=&quot;map_423b1ec9a80254ed7a57a22668f0edf7&quot; &gt;&lt;/div&gt;\n",
              "        \n",
              "&lt;/body&gt;\n",
              "&lt;script&gt;    \n",
              "    \n",
              "            var map_423b1ec9a80254ed7a57a22668f0edf7 = L.map(\n",
              "                &quot;map_423b1ec9a80254ed7a57a22668f0edf7&quot;,\n",
              "                {\n",
              "                    center: [49.49216583285166, 8.484229445457458],\n",
              "                    crs: L.CRS.EPSG3857,\n",
              "                    zoom: 17,\n",
              "                    zoomControl: true,\n",
              "                    preferCanvas: false,\n",
              "                }\n",
              "            );\n",
              "\n",
              "            \n",
              "\n",
              "        \n",
              "    \n",
              "            var tile_layer_c49001d8293e498cdc2d4d000d5c451c = L.tileLayer(\n",
              "                &quot;https://{s}.tile.openstreetmap.org/{z}/{x}/{y}.png&quot;,\n",
              "                {&quot;attribution&quot;: &quot;Data by \\u0026copy; \\u003ca href=\\&quot;http://openstreetmap.org\\&quot;\\u003eOpenStreetMap\\u003c/a\\u003e, under \\u003ca href=\\&quot;http://www.openstreetmap.org/copyright\\&quot;\\u003eODbL\\u003c/a\\u003e.&quot;, &quot;detectRetina&quot;: false, &quot;maxNativeZoom&quot;: 18, &quot;maxZoom&quot;: 18, &quot;minZoom&quot;: 0, &quot;noWrap&quot;: false, &quot;opacity&quot;: 1, &quot;subdomains&quot;: &quot;abc&quot;, &quot;tms&quot;: false}\n",
              "            ).addTo(map_423b1ec9a80254ed7a57a22668f0edf7);\n",
              "        \n",
              "    \n",
              "\n",
              "        function geo_json_030e15163ca2f8ad9039ade1b4a85b42_onEachFeature(feature, layer) {\n",
              "            layer.on({\n",
              "            });\n",
              "        };\n",
              "        var geo_json_030e15163ca2f8ad9039ade1b4a85b42 = L.geoJson(null, {\n",
              "                onEachFeature: geo_json_030e15163ca2f8ad9039ade1b4a85b42_onEachFeature,\n",
              "            \n",
              "        });\n",
              "\n",
              "        function geo_json_030e15163ca2f8ad9039ade1b4a85b42_add (data) {\n",
              "            geo_json_030e15163ca2f8ad9039ade1b4a85b42\n",
              "                .addData(data)\n",
              "                .addTo(map_423b1ec9a80254ed7a57a22668f0edf7);\n",
              "        }\n",
              "            geo_json_030e15163ca2f8ad9039ade1b4a85b42_add({&quot;features&quot;: [{&quot;geometry&quot;: {&quot;coordinates&quot;: [[[8.489046692848206, 49.49336142651621], [8.489103689789772, 49.49293676544408], [8.48945438861847, 49.49295680081851], [8.489396721124649, 49.493380155073545], [8.489046692848206, 49.49336142651621]]], &quot;type&quot;: &quot;Polygon&quot;}, &quot;properties&quot;: {}, &quot;type&quot;: &quot;Feature&quot;}], &quot;type&quot;: &quot;FeatureCollection&quot;});\n",
              "\n",
              "        \n",
              "&lt;/script&gt;\" style=\"position:absolute;width:100%;height:100%;left:0;top:0;border:none !important;\" allowfullscreen webkitallowfullscreen mozallowfullscreen></iframe></div></div>"
            ]
          },
          "metadata": {}
        }
      ]
    },
    {
      "cell_type": "code",
      "source": [
        "testGeoJson = 'HospitalNavigator/GeoResources/path/w17.geojson'"
      ],
      "metadata": {
        "id": "elGqEE5HMbml"
      },
      "execution_count": null,
      "outputs": []
    },
    {
      "cell_type": "code",
      "source": [
        "def switchPosition(coordinate):\n",
        "  temp = coordinate[0]\n",
        "  coordinate[0] = coordinate[1]\n",
        "  coordinate[1] = temp\n",
        "  return coordinate"
      ],
      "metadata": {
        "id": "BSlbllBYMhMo"
      },
      "execution_count": null,
      "outputs": []
    },
    {
      "cell_type": "code",
      "source": [
        "with open(testGeoJson) as f:\n",
        "  testWay = json.load(f)\n",
        "\n",
        "for feature in testWay['features']:\n",
        "    path = feature['geometry']['coordinates']\n",
        "finalPath = list(map(switchPosition,path))\n",
        "finalPath"
      ],
      "metadata": {
        "colab": {
          "base_uri": "https://localhost:8080/"
        },
        "id": "JRQ7yiRnMkVt",
        "outputId": "0f3e01c1-b917-4202-8c49-965e431a746d"
      },
      "execution_count": null,
      "outputs": [
        {
          "output_type": "execute_result",
          "data": {
            "text/plain": [
              "[[49.49213534374249, 8.484166413545609],\n",
              " [49.49232786037041, 8.484299182891846],\n",
              " [49.49233047371309, 8.484493643045425],\n",
              " [49.492218099851804, 8.484871834516525],\n",
              " [49.49142363542676, 8.487555384635925],\n",
              " [49.49185222967887, 8.487834334373474],\n",
              " [49.491712849846046, 8.488343954086304],\n",
              " [49.492029938390125, 8.488638997077942],\n",
              " [49.49251776290861, 8.488982319831848],\n",
              " [49.49222506878094, 8.489341735839844],\n",
              " [49.49217977072383, 8.489529490470886],\n",
              " [49.49220764645621, 8.489856719970703]]"
            ]
          },
          "metadata": {},
          "execution_count": 7
        }
      ]
    },
    {
      "cell_type": "code",
      "source": [
        "path = 'HospitalNavigator/GeoResources/path/w17.geojson'\n",
        "folium.plugins.AntPath([[49.49213534374249, 8.484166413545609],\n",
        " [49.49232786037041, 8.484299182891846],\n",
        " [49.49233047371309, 8.484493643045425],\n",
        " [49.492218099851804, 8.484871834516525],\n",
        " [49.49142363542676, 8.487555384635925],\n",
        " [49.49185222967887, 8.487834334373474],\n",
        " [49.491712849846046, 8.488343954086304],\n",
        " [49.492029938390125, 8.488638997077942],\n",
        " [49.49251776290861, 8.488982319831848],\n",
        " [49.49222506878094, 8.489341735839844],\n",
        " [49.49217977072383, 8.489529490470886],\n",
        " [49.49220764645621, 8.489856719970703]]).add_to(map_UMM)\n",
        "map_UMM"
      ],
      "metadata": {
        "colab": {
          "base_uri": "https://localhost:8080/",
          "height": 866
        },
        "id": "qAIjHkvKMn_q",
        "outputId": "ae85d84c-ff10-4805-8b30-3bdfbaa5edeb"
      },
      "execution_count": null,
      "outputs": [
        {
          "output_type": "execute_result",
          "data": {
            "text/plain": [
              "<folium.folium.Map at 0x7f5225edd8d0>"
            ],
            "text/html": [
              "<div style=\"width:100%;\"><div style=\"position:relative;width:100%;height:0;padding-bottom:60%;\"><span style=\"color:#565656\">Make this Notebook Trusted to load map: File -> Trust Notebook</span><iframe srcdoc=\"&lt;!DOCTYPE html&gt;\n",
              "&lt;head&gt;    \n",
              "    &lt;meta http-equiv=&quot;content-type&quot; content=&quot;text/html; charset=UTF-8&quot; /&gt;\n",
              "    \n",
              "        &lt;script&gt;\n",
              "            L_NO_TOUCH = false;\n",
              "            L_DISABLE_3D = false;\n",
              "        &lt;/script&gt;\n",
              "    \n",
              "    &lt;style&gt;html, body {width: 100%;height: 100%;margin: 0;padding: 0;}&lt;/style&gt;\n",
              "    &lt;style&gt;#map {position:absolute;top:0;bottom:0;right:0;left:0;}&lt;/style&gt;\n",
              "    &lt;script src=&quot;https://cdn.jsdelivr.net/npm/leaflet@1.6.0/dist/leaflet.js&quot;&gt;&lt;/script&gt;\n",
              "    &lt;script src=&quot;https://code.jquery.com/jquery-1.12.4.min.js&quot;&gt;&lt;/script&gt;\n",
              "    &lt;script src=&quot;https://maxcdn.bootstrapcdn.com/bootstrap/3.2.0/js/bootstrap.min.js&quot;&gt;&lt;/script&gt;\n",
              "    &lt;script src=&quot;https://cdnjs.cloudflare.com/ajax/libs/Leaflet.awesome-markers/2.0.2/leaflet.awesome-markers.js&quot;&gt;&lt;/script&gt;\n",
              "    &lt;link rel=&quot;stylesheet&quot; href=&quot;https://cdn.jsdelivr.net/npm/leaflet@1.6.0/dist/leaflet.css&quot;/&gt;\n",
              "    &lt;link rel=&quot;stylesheet&quot; href=&quot;https://maxcdn.bootstrapcdn.com/bootstrap/3.2.0/css/bootstrap.min.css&quot;/&gt;\n",
              "    &lt;link rel=&quot;stylesheet&quot; href=&quot;https://maxcdn.bootstrapcdn.com/bootstrap/3.2.0/css/bootstrap-theme.min.css&quot;/&gt;\n",
              "    &lt;link rel=&quot;stylesheet&quot; href=&quot;https://maxcdn.bootstrapcdn.com/font-awesome/4.6.3/css/font-awesome.min.css&quot;/&gt;\n",
              "    &lt;link rel=&quot;stylesheet&quot; href=&quot;https://cdnjs.cloudflare.com/ajax/libs/Leaflet.awesome-markers/2.0.2/leaflet.awesome-markers.css&quot;/&gt;\n",
              "    &lt;link rel=&quot;stylesheet&quot; href=&quot;https://cdn.jsdelivr.net/gh/python-visualization/folium/folium/templates/leaflet.awesome.rotate.min.css&quot;/&gt;\n",
              "    \n",
              "            &lt;meta name=&quot;viewport&quot; content=&quot;width=device-width,\n",
              "                initial-scale=1.0, maximum-scale=1.0, user-scalable=no&quot; /&gt;\n",
              "            &lt;style&gt;\n",
              "                #map_423b1ec9a80254ed7a57a22668f0edf7 {\n",
              "                    position: relative;\n",
              "                    width: 75.0%;\n",
              "                    height: 100.0%;\n",
              "                    left: 0.0%;\n",
              "                    top: 0.0%;\n",
              "                }\n",
              "            &lt;/style&gt;\n",
              "        \n",
              "    &lt;script src=&quot;https://cdn.jsdelivr.net/npm/leaflet-ant-path@1.1.2/dist/leaflet-ant-path.min.js&quot;&gt;&lt;/script&gt;\n",
              "&lt;/head&gt;\n",
              "&lt;body&gt;    \n",
              "    \n",
              "            &lt;div class=&quot;folium-map&quot; id=&quot;map_423b1ec9a80254ed7a57a22668f0edf7&quot; &gt;&lt;/div&gt;\n",
              "        \n",
              "&lt;/body&gt;\n",
              "&lt;script&gt;    \n",
              "    \n",
              "            var map_423b1ec9a80254ed7a57a22668f0edf7 = L.map(\n",
              "                &quot;map_423b1ec9a80254ed7a57a22668f0edf7&quot;,\n",
              "                {\n",
              "                    center: [49.49216583285166, 8.484229445457458],\n",
              "                    crs: L.CRS.EPSG3857,\n",
              "                    zoom: 17,\n",
              "                    zoomControl: true,\n",
              "                    preferCanvas: false,\n",
              "                }\n",
              "            );\n",
              "\n",
              "            \n",
              "\n",
              "        \n",
              "    \n",
              "            var tile_layer_c49001d8293e498cdc2d4d000d5c451c = L.tileLayer(\n",
              "                &quot;https://{s}.tile.openstreetmap.org/{z}/{x}/{y}.png&quot;,\n",
              "                {&quot;attribution&quot;: &quot;Data by \\u0026copy; \\u003ca href=\\&quot;http://openstreetmap.org\\&quot;\\u003eOpenStreetMap\\u003c/a\\u003e, under \\u003ca href=\\&quot;http://www.openstreetmap.org/copyright\\&quot;\\u003eODbL\\u003c/a\\u003e.&quot;, &quot;detectRetina&quot;: false, &quot;maxNativeZoom&quot;: 18, &quot;maxZoom&quot;: 18, &quot;minZoom&quot;: 0, &quot;noWrap&quot;: false, &quot;opacity&quot;: 1, &quot;subdomains&quot;: &quot;abc&quot;, &quot;tms&quot;: false}\n",
              "            ).addTo(map_423b1ec9a80254ed7a57a22668f0edf7);\n",
              "        \n",
              "    \n",
              "\n",
              "        function geo_json_030e15163ca2f8ad9039ade1b4a85b42_onEachFeature(feature, layer) {\n",
              "            layer.on({\n",
              "            });\n",
              "        };\n",
              "        var geo_json_030e15163ca2f8ad9039ade1b4a85b42 = L.geoJson(null, {\n",
              "                onEachFeature: geo_json_030e15163ca2f8ad9039ade1b4a85b42_onEachFeature,\n",
              "            \n",
              "        });\n",
              "\n",
              "        function geo_json_030e15163ca2f8ad9039ade1b4a85b42_add (data) {\n",
              "            geo_json_030e15163ca2f8ad9039ade1b4a85b42\n",
              "                .addData(data)\n",
              "                .addTo(map_423b1ec9a80254ed7a57a22668f0edf7);\n",
              "        }\n",
              "            geo_json_030e15163ca2f8ad9039ade1b4a85b42_add({&quot;features&quot;: [{&quot;geometry&quot;: {&quot;coordinates&quot;: [[[8.489046692848206, 49.49336142651621], [8.489103689789772, 49.49293676544408], [8.48945438861847, 49.49295680081851], [8.489396721124649, 49.493380155073545], [8.489046692848206, 49.49336142651621]]], &quot;type&quot;: &quot;Polygon&quot;}, &quot;properties&quot;: {}, &quot;type&quot;: &quot;Feature&quot;}], &quot;type&quot;: &quot;FeatureCollection&quot;});\n",
              "\n",
              "        \n",
              "    \n",
              "            ant_path_968392e786596a2b0100425c6152c77a = L.polyline.antPath(\n",
              "              [[49.49213534374249, 8.484166413545609], [49.49232786037041, 8.484299182891846], [49.49233047371309, 8.484493643045425], [49.492218099851804, 8.484871834516525], [49.49142363542676, 8.487555384635925], [49.49185222967887, 8.487834334373474], [49.491712849846046, 8.488343954086304], [49.492029938390125, 8.488638997077942], [49.49251776290861, 8.488982319831848], [49.49222506878094, 8.489341735839844], [49.49217977072383, 8.489529490470886], [49.49220764645621, 8.489856719970703]],\n",
              "              {&quot;bubblingMouseEvents&quot;: true, &quot;color&quot;: &quot;#0000FF&quot;, &quot;dashArray&quot;: [10, 20], &quot;dashOffset&quot;: null, &quot;delay&quot;: 400, &quot;fill&quot;: false, &quot;fillColor&quot;: &quot;#3388ff&quot;, &quot;fillOpacity&quot;: 0.2, &quot;fillRule&quot;: &quot;evenodd&quot;, &quot;hardwareAcceleration&quot;: false, &quot;lineCap&quot;: &quot;round&quot;, &quot;lineJoin&quot;: &quot;round&quot;, &quot;noClip&quot;: false, &quot;opacity&quot;: 0.5, &quot;paused&quot;: false, &quot;pulseColor&quot;: &quot;#FFFFFF&quot;, &quot;reverse&quot;: false, &quot;smoothFactor&quot;: 1.0, &quot;stroke&quot;: true, &quot;weight&quot;: 5}\n",
              "        ).addTo(map_423b1ec9a80254ed7a57a22668f0edf7);\n",
              "        \n",
              "&lt;/script&gt;\" style=\"position:absolute;width:100%;height:100%;left:0;top:0;border:none !important;\" allowfullscreen webkitallowfullscreen mozallowfullscreen></iframe></div></div>"
            ]
          },
          "metadata": {},
          "execution_count": 8
        }
      ]
    },
    {
      "cell_type": "code",
      "source": [
        "select_widget=ipywidgets.Select(\n",
        "    options=['Option A', 'Option B'],\n",
        "    value='Option A',\n",
        "    description='Select',\n",
        "    disabled=False)\n",
        "\n",
        "def selectOption(opt):\n",
        "    if opt == 'Option A':\n",
        "        print('A')\n",
        "    if opt == 'Option B':\n",
        "        print('B')\n",
        "\n",
        "ipywidgets.interact(selectOption, opt=select_widget)"
      ],
      "metadata": {
        "colab": {
          "base_uri": "https://localhost:8080/",
          "height": 146,
          "referenced_widgets": [
            "e4655a51253f4013a9ffcc8b6c062527",
            "edce016bcba1442f934e6cb56f5f6942",
            "9f9c039eb35744f49f303893f4502e73",
            "dbcba42b17ed4f738c2e88c20ae022e0",
            "47da676d78e04017bf5974ab112cb875",
            "474b5b0d9c3a4890904a0f974ef94a4b",
            "da2242c8f85b46b7babe5689187bd777"
          ]
        },
        "id": "4ws4ZZ2FMsP1",
        "outputId": "a7930b3d-1f97-4594-b57c-aeaf2df88369"
      },
      "execution_count": null,
      "outputs": [
        {
          "output_type": "display_data",
          "data": {
            "text/plain": [
              "interactive(children=(Select(description='Select', options=('Option A', 'Option B'), value='Option A'), Output…"
            ],
            "application/vnd.jupyter.widget-view+json": {
              "version_major": 2,
              "version_minor": 0,
              "model_id": "e4655a51253f4013a9ffcc8b6c062527"
            }
          },
          "metadata": {}
        },
        {
          "output_type": "execute_result",
          "data": {
            "text/plain": [
              "<function __main__.selectOption(opt)>"
            ]
          },
          "metadata": {},
          "execution_count": 9
        }
      ]
    },
    {
      "cell_type": "code",
      "source": [
        "class navigator:\n",
        "    def __init__(self):\n",
        "        self.geoResources = {}\n",
        "        self.hospitalLocation =(49.49226339787344, 8.487303256988524)\n",
        "        self.position = 'w'\n",
        "        self.destination = 'Haus17'\n",
        "\n",
        "        for root, dirs, files in os.walk('HospitalNavigator/GeoResources'):  \n",
        "            for file in files:\n",
        "                self.geoResources[file.split('.')[0]] = root+'/'+file\n",
        "\n",
        "    def changeDestination(self,newDestination):\n",
        "        self.destination = newDestination\n",
        "        self.redrawMap()\n",
        "\n",
        "    def changeStartPoint(self, newStartPoint):\n",
        "        \n",
        "        #self.position = newStartPoint #does not work yet\n",
        "        print(f'Selected Start: {newStartPoint}; Selected Target: {self.destination}')\n",
        "        #self.redrawMap()\n",
        "        \n",
        "\n",
        "    def drawPathWay(self,hospitalMap):\n",
        "      \n",
        "      def switchPosition(coordinate):\n",
        "        temp = coordinate[0]\n",
        "        coordinate[0] = coordinate[1]\n",
        "        coordinate[1] = temp\n",
        "        return coordinate\n",
        "\n",
        "      searchString = self.position + self.destination.split('Haus')[1]\n",
        "      with open(self.geoResources[searchString]) as f:\n",
        "           testWay = json.load(f)\n",
        "\n",
        "      for feature in testWay['features']:\n",
        "        path = feature['geometry']['coordinates']\n",
        "\n",
        "      finalPath = list(map(switchPosition,path))\n",
        "      folium.plugins.AntPath(finalPath).add_to(hospitalMap)\n",
        "\n",
        "    def drawBuilding(self,hospitalMap):\n",
        "      hauseOutline = self.geoResources[self.destination]\n",
        "      folium.GeoJson(hauseOutline, name=\"geojson\").add_to(hospitalMap)\n",
        "\n",
        "    def redrawMap(self):\n",
        "        #print(f'position {self.position}, destination {self.destination}')\n",
        "        hospitalMap = folium.Map(location = self.hospitalLocation, width = \"75%\", zoom_start = 17)\n",
        "        self.drawPathWay(hospitalMap)\n",
        "        self.drawBuilding(hospitalMap)\n",
        "        display(hospitalMap)\n",
        "\n",
        "\n"
      ],
      "metadata": {
        "id": "LW9fenAgMx75"
      },
      "execution_count": null,
      "outputs": []
    },
    {
      "cell_type": "code",
      "source": [
        "myNavigator = navigator()"
      ],
      "metadata": {
        "id": "1xxYie3iMzrf"
      },
      "execution_count": null,
      "outputs": []
    },
    {
      "cell_type": "code",
      "source": [
        "def displayWay(whereTo):\n",
        "     myNavigator.changeDestination(whereTo)"
      ],
      "metadata": {
        "id": "9vEKFVFsM3VF"
      },
      "execution_count": null,
      "outputs": []
    },
    {
      "cell_type": "code",
      "source": [
        "def changePosition(whereFrom):\n",
        "    myNavigator.changeStartPoint(whereFrom)"
      ],
      "metadata": {
        "id": "2Ims_i1nM6de"
      },
      "execution_count": null,
      "outputs": []
    },
    {
      "cell_type": "code",
      "source": [
        "# Destination Selector\n",
        "selectHouse_widget=ipywidgets.Select(\n",
        "    \n",
        "options=['Haus1',\n",
        "    'Haus10',\n",
        "    'Haus11',\n",
        "    'Haus12',\n",
        "    'Haus13',\n",
        "    'Haus14',\n",
        "    'Haus15',\n",
        "    'Haus16',\n",
        "    'Haus17',\n",
        "    'Haus19',\n",
        "    'Haus2',\n",
        "    'Haus20',\n",
        "    'Haus22',\n",
        "    'Haus24',\n",
        "    'Haus25',\n",
        "    'Haus26',\n",
        "    'Haus27',\n",
        "    'Haus28',\n",
        "    'Haus29',\n",
        "    'Haus3',\n",
        "    'Haus30',\n",
        "    'Haus31',\n",
        "    'Haus32',\n",
        "    'Haus33',\n",
        "    'Haus34',\n",
        "    'Haus35',\n",
        "    'Haus36',\n",
        "    'Haus37',\n",
        "    'Haus39',\n",
        "    'Haus4',\n",
        "    'Haus40',\n",
        "    'Haus41',\n",
        "    'Haus42',\n",
        "    'Haus43',\n",
        "    'Haus5',\n",
        "    'Haus6',\n",
        "    'Haus7',\n",
        "    'Haus8',\n",
        "    'Haus9'],\n",
        "    value='Haus1',\n",
        "    description='Target',\n",
        "    disabled=False)\n",
        "\n",
        "# widget function\n",
        "def selectHouse(way):\n",
        "    if way == 'Haus1' :\n",
        "        displayWay('Haus1' ) \n",
        "    if way == 'Haus10':\n",
        "        displayWay('Haus10')\n",
        "    if way == 'Haus11':\n",
        "        displayWay('Haus11')\n",
        "    if way == 'Haus12':\n",
        "        displayWay('Haus12')\n",
        "    if way == 'Haus13':\n",
        "        displayWay('Haus13')\n",
        "    if way == 'Haus14':\n",
        "        displayWay('Haus14')\n",
        "    if way == 'Haus15':\n",
        "        displayWay('Haus15')\n",
        "    if way == 'Haus16':\n",
        "        displayWay('Haus16')\n",
        "    if way == 'Haus17':\n",
        "       displayWay('Haus17')\n",
        "    if way == 'Haus19':\n",
        "        displayWay('Haus19')\n",
        "    if way == 'Haus2' :\n",
        "        displayWay('Haus2' ) \n",
        "    if way == 'Haus20':\n",
        "        displayWay('Haus20')\n",
        "    if way == 'Haus22':\n",
        "        displayWay('Haus22')\n",
        "    if way == 'Haus24':\n",
        "        displayWay('Haus24')\n",
        "    if way == 'Haus25':\n",
        "        displayWay('Haus25')\n",
        "    if way == 'Haus26':\n",
        "        displayWay('Haus26')\n",
        "    if way == 'Haus27':\n",
        "        displayWay('Haus27')\n",
        "    if way == 'Haus28':\n",
        "        displayWay('Haus28')\n",
        "    if way == 'Haus29':\n",
        "        displayWay('Haus29')\n",
        "    if way == 'Haus3' :\n",
        "        displayWay('Haus3' ) \n",
        "    if way == 'Haus30':\n",
        "        displayWay('Haus30')\n",
        "    if way == 'Haus31':\n",
        "        displayWay('Haus31')\n",
        "    if way == 'Haus32':\n",
        "        displayWay('Haus32')\n",
        "    if way == 'Haus33':\n",
        "        displayWay('Haus33')\n",
        "    if way == 'Haus34':\n",
        "        displayWay('Haus34')\n",
        "    if way == 'Haus35':\n",
        "        displayWay('Haus35')\n",
        "    if way == 'Haus36':\n",
        "        displayWay('Haus36')\n",
        "    if way == 'Haus37':\n",
        "        displayWay('Haus37')\n",
        "    if way == 'Haus39':\n",
        "        displayWay('Haus39')\n",
        "    if way == 'Haus4' :\n",
        "        displayWay('Haus4' ) \n",
        "    if way == 'Haus40':\n",
        "        displayWay('Haus40')\n",
        "    if way == 'Haus41':\n",
        "        displayWay('Haus41')\n",
        "    if way == 'Haus42':\n",
        "        displayWay('Haus42')\n",
        "    if way == 'Haus43':\n",
        "        displayWay('Haus43')\n",
        "    if way == 'Haus5' :\n",
        "        displayWay('Haus5' ) \n",
        "    if way == 'Haus6' :\n",
        "        displayWay('Haus6' ) \n",
        "    if way == 'Haus7' :\n",
        "        displayWay('Haus7' ) \n",
        "    if way == 'Haus8' :\n",
        "        displayWay('Haus8' ) \n",
        "    if way == 'Haus9' :\n",
        "        displayWay('Haus9' ) \n",
        "\n",
        "# Position Selector\n",
        "selectPosition_widget=ipywidgets.Select(\n",
        "    options=['Aufnahme', 'Eingang West', 'Eingang Ost', 'Eingang Fahrzeuge'],\n",
        "    value='Eingang West',\n",
        "    description='Start',\n",
        "    disabled=False)\n",
        "\n",
        "def selectPosition(position):\n",
        "    if position == 'Aufnahme':\n",
        "        changePosition('a')\n",
        "    if position == 'Eingang West':\n",
        "        changePosition('w')\n",
        "    if position == 'Eingang Ost':\n",
        "        changePosition('o')\n",
        "    if position == 'Eingang Fahrzeuge':\n",
        "        changePosition('f')\n",
        "        \n",
        "#Initialization   \n",
        "ipywidgets.interact(selectPosition, position=selectPosition_widget)\n",
        "ipywidgets.interact(selectHouse, way=selectHouse_widget)"
      ],
      "metadata": {
        "colab": {
          "base_uri": "https://localhost:8080/",
          "height": 1000,
          "referenced_widgets": [
            "e6db4f4066284de188f01f3771bedbc5",
            "adf6e635556a470a92225fa416e610bc",
            "3254c0c5346c4b21ac727c5044918826",
            "d8279dbdb5924d9e9fc4a613c1bb9a7e",
            "43ecaacda10f4d9ebeb31247e610801b",
            "4f40002cea404f6d9b5bc59104b7eeb3",
            "1cb904af078749c887cc9299dc887b23",
            "a7070a8907d44511a62bb2b3e3a5b0e4",
            "56b7a30edd69471c96c5f4708f44fe7e",
            "56df3f1a85044c459deffb88f89698d5",
            "6c2390e75e2040fba30b15b24de3e1f2",
            "3a2f6141cb3a44ec8411966ea967c594",
            "c57ae5ffaa3d45eb9b5f939a11204e95",
            "ec3601a6f8c64f07b9595f0e7d7fd19c"
          ]
        },
        "id": "AHxlPTydM9eT",
        "outputId": "4fb3e40e-d65d-4e2b-cb0a-18f765846446"
      },
      "execution_count": null,
      "outputs": [
        {
          "output_type": "display_data",
          "data": {
            "text/plain": [
              "interactive(children=(Select(description='Start', index=1, options=('Aufnahme', 'Eingang West', 'Eingang Ost',…"
            ],
            "application/vnd.jupyter.widget-view+json": {
              "version_major": 2,
              "version_minor": 0,
              "model_id": "e6db4f4066284de188f01f3771bedbc5"
            }
          },
          "metadata": {}
        },
        {
          "output_type": "display_data",
          "data": {
            "text/plain": [
              "interactive(children=(Select(description='Target', options=('Haus1', 'Haus10', 'Haus11', 'Haus12', 'Haus13', '…"
            ],
            "application/vnd.jupyter.widget-view+json": {
              "version_major": 2,
              "version_minor": 0,
              "model_id": "a7070a8907d44511a62bb2b3e3a5b0e4"
            }
          },
          "metadata": {}
        },
        {
          "output_type": "execute_result",
          "data": {
            "text/plain": [
              "<function __main__.selectHouse(way)>"
            ]
          },
          "metadata": {},
          "execution_count": 14
        }
      ]
    }
  ]
}